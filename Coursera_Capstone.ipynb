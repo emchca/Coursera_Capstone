{
  "nbformat": 4,
  "nbformat_minor": 0,
  "metadata": {
    "colab": {
      "name": "Coursera_Capstone.ipynb",
      "provenance": [],
      "collapsed_sections": []
    },
    "kernelspec": {
      "name": "python3",
      "display_name": "Python 3"
    }
  },
  "cells": [
    {
      "cell_type": "markdown",
      "metadata": {
        "id": "qpclw3rcPrsY",
        "colab_type": "text"
      },
      "source": [
        "# Coursera Capstone Project"
      ]
    },
    {
      "cell_type": "markdown",
      "metadata": {
        "id": "nSch07CHPzjj",
        "colab_type": "text"
      },
      "source": [
        "##Introduction & Business Problem"
      ]
    },
    {
      "cell_type": "markdown",
      "metadata": {
        "id": "RncfdfSSMwDS",
        "colab_type": "text"
      },
      "source": [
        "The purpose of this project is to determine the best area in Toronto, Canada for a developer to build a rental building featuring 3-bedroom units geared towards young families.\n",
        "\n",
        "The developer is aware that more and more families are moving out of the city when they have children, due to the rising cost of home ownership, and the shortage of family-sized rental options. However, Toronto has a wealth of schools, libraries, and playgrounds that are optimal for child-rearing. The developer aims to empower young families - who cannot afford to purchase property - to live in one of these optimal locations.\n",
        "\n",
        "Thus, the developer wishes to find a shortlist of areas that contain the best mix of schools, libraries, and playgrounds. If possible, the developer would also like to find a location near a subway station in order to satisfy working professionals."
      ]
    },
    {
      "cell_type": "markdown",
      "metadata": {
        "id": "HaHl3WO0P75U",
        "colab_type": "text"
      },
      "source": [
        "## Data"
      ]
    },
    {
      "cell_type": "markdown",
      "metadata": {
        "id": "kVjBXqucZu-c",
        "colab_type": "text"
      },
      "source": [
        "The data used to aid my recommendations to the developer will be obtained using [Foursquare API](https://developer.foursquare.com/docs/api) and the [City of Toronto's Open Data Catalogue](https://open.toronto.ca/dataset/neighbourhoods/).\n",
        "\n",
        "The Open Data Catalogue will be used to determine the boundaries of Toronto's neighbourhoods.\n",
        "\n",
        "The Foursquare API will be used to explore the following:\n",
        "\n",
        "\n",
        "*   The number of schools in a neighbourhood\n",
        "*   The number of libraries in a neighbourhood\n",
        "*   The number of playgrounds in a neighbourhood\n",
        "*   The presence/absense of a subway station\n",
        "\n",
        "These factors will be weighted based on relative importance to a young family. For example, access to school choices will be the top priority, followed by library & playground access. The presence of a subway station will be used to distinguish between otherwise equal neighbourhoods.\n",
        "\n",
        "\n",
        "\n"
      ]
    },
    {
      "cell_type": "code",
      "metadata": {
        "id": "gXWOFzt_Zvbb",
        "colab_type": "code",
        "colab": {}
      },
      "source": [
        ""
      ],
      "execution_count": 0,
      "outputs": []
    }
  ]
}